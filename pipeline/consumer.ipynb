{
 "cells": [
  {
   "cell_type": "markdown",
   "metadata": {},
   "source": [
    "# kafkaReceiveDataPy\n",
    "This notebook receives data from Kafka on the topic 'test', and stores it in the 'time_test' table of Cassandra (created by cassandra_init.script in startup_script.sh).\n",
    "\n",
    "```\n",
    "CREATE KEYSPACE test_time WITH replication = {'class': 'SimpleStrategy', 'replication_factor' : 1};\n",
    "\n",
    "CREATE TABLE test_time.sent_received(\n",
    " time_sent TEXT,\n",
    " time_received TEXT,\n",
    "PRIMARY KEY (time_sent)\n",
    ");\n",
    "```\n",
    "\n",
    "A message that gives the current time is received every second. "
   ]
  },
  {
   "cell_type": "code",
   "execution_count": 1,
   "metadata": {
    "collapsed": true
   },
   "outputs": [],
   "source": [
    "TOPIC = 'dmi'\n",
    "TOPIC = 'imu'\n",
    "TOPIC = 'gps'"
   ]
  },
  {
   "cell_type": "markdown",
   "metadata": {},
   "source": [
    "## Add dependencies"
   ]
  },
  {
   "cell_type": "code",
   "execution_count": 2,
   "metadata": {
    "collapsed": true
   },
   "outputs": [],
   "source": [
    "import os\n",
    "os.environ['PYSPARK_SUBMIT_ARGS'] = '--conf spark.ui.port=4040 --packages org.apache.spark:spark-streaming-kafka-0-8_2.11:2.0.0,com.datastax.spark:spark-cassandra-connector_2.11:2.0.0-M3 pyspark-shell'\n",
    "import time"
   ]
  },
  {
   "cell_type": "markdown",
   "metadata": {},
   "source": [
    "## Load modules and start SparkContext\n",
    "Note that SparkContext must be started to effectively load the package dependencies. Two cores are used, since one is needed for running the Kafka receiver."
   ]
  },
  {
   "cell_type": "code",
   "execution_count": 3,
   "metadata": {
    "collapsed": true
   },
   "outputs": [],
   "source": [
    "from pyspark import SparkContext, SparkConf\n",
    "from pyspark.sql import SQLContext, Row\n",
    "conf = SparkConf() \\\n",
    "    .setAppName(\"Streaming test\") \\\n",
    "    .setMaster(\"local[2]\") \\\n",
    "    .set(\"spark.cassandra.connection.host\", \"127.0.0.1\")\n",
    "sc = SparkContext(conf=conf) \n",
    "sqlContext=SQLContext(sc)\n",
    "from pyspark.streaming import StreamingContext\n",
    "from pyspark.streaming.kafka import KafkaUtils"
   ]
  },
  {
   "cell_type": "code",
   "execution_count": 4,
   "metadata": {
    "collapsed": true,
    "scrolled": true
   },
   "outputs": [],
   "source": [
    "import argparse\n",
    "import csv\n",
    "import time\n",
    "import json\n",
    "\n",
    "from utils import parse_line_into_schema\n",
    "\n",
    "from fastavro import writer, reader, parse_schema\n",
    "import avro_schemas"
   ]
  },
  {
   "cell_type": "code",
   "execution_count": 5,
   "metadata": {
    "collapsed": true
   },
   "outputs": [],
   "source": [
    "debug = True"
   ]
  },
  {
   "cell_type": "code",
   "execution_count": 6,
   "metadata": {
    "collapsed": true,
    "scrolled": true
   },
   "outputs": [],
   "source": [
    "# PARSE ARGS AND SET PATHS, TOPICS\n",
    "KEYSPACE = 'raw_instrument'\n",
    "DATA_OUT_DIR = '/data/'\n",
    "DMI_OUT_FILEPATH = DATA_OUT_DIR + 'dmi.csv'\n",
    "IMU_OUT_FILEPATH = DATA_OUT_DIR + 'imu.csv'\n",
    "LIDAR_OUT_FILEPATH = DATA_OUT_DIR + 'lidar.csv'\n",
    "GPS_OUT_FILEPATH = DATA_OUT_DIR + 'gps.csv'\n",
    "INSTRUMENTS = ['imu', 'dmi', 'lidar', 'gps']\n",
    "\n",
    "if debug:\n",
    "    instrument = TOPIC\n",
    "else:\n",
    "    parser = argparse.ArgumentParser()\n",
    "    parser.add_argument('-i', '--instrument', help='which instrument data to save to disk {0}'.format(INSTRUMENTS))\n",
    "    args = parser.parse_args()\n",
    "    instrument = args.instrument.lower()\n",
    "    \n",
    "if 'dmi' in instrument:\n",
    "    filepath = DMI_OUT_FILEPATH\n",
    "    schema = avro_schemas.dmi\n",
    "    field_names = [d['name'] for d in schema['fields']]\n",
    "    TOPIC = 'dmi'\n",
    "elif 'imu' in instrument:\n",
    "    filepath = IMU_OUT_FILEPATH\n",
    "    schema = avro_schemas.imu\n",
    "    field_names = [d['name'] for d in schema['fields']]\n",
    "    TOPIC = 'imu'\n",
    "elif 'lidar' in instrument:\n",
    "    filepath = LIDAR_OUT_FILEPATH\n",
    "    schema = avro_schemas.lidar\n",
    "    field_names = [d['name'] for d in schema['fields']]\n",
    "    TOPIC = 'lidar'\n",
    "elif 'gps' in instrument:\n",
    "    filepath = GPS_OUT_FILEPATH\n",
    "    schema = avro_schemas.gps\n",
    "    field_names = [d['name'] for d in schema['fields']]\n",
    "    TOPIC = 'gps'\n",
    "else:\n",
    "    print('ERROR: ARGUMENT {0} NOT IN INSTRUMENTS {1}'.format(args.instrument, INSTRUMENTS))\n",
    "    assert False\n",
    "\n",
    "parsed_schema = parse_schema(schema)\n"
   ]
  },
  {
   "cell_type": "code",
   "execution_count": 7,
   "metadata": {},
   "outputs": [
    {
     "data": {
      "text/plain": [
       "{'__fastavro_parsed': True,\n",
       " 'fields': [{'name': 'coordinate_id', 'type': 'int'},\n",
       "  {'name': 'gps_timestamp', 'type': 'string'},\n",
       "  {'name': 'latitude', 'type': ['float', 'null']},\n",
       "  {'name': 'lat_dir', 'type': 'string'},\n",
       "  {'name': 'longitude', 'type': ['float', 'null']},\n",
       "  {'name': 'lon_dir', 'type': 'string'},\n",
       "  {'name': 'num_sats', 'type': ['int', 'null']},\n",
       "  {'name': 'horizontal_dil', 'type': ['float', 'null']},\n",
       "  {'name': 'altitude', 'type': ['float', 'null']},\n",
       "  {'name': 'altitude_units', 'type': 'string'},\n",
       "  {'name': 'geo_sep_units', 'type': 'string'},\n",
       "  {'name': 'age_gps_data', 'type': 'string'},\n",
       "  {'name': 'unused', 'type': 'string'}],\n",
       " 'name': 'gps.avro.sidewalk_rig',\n",
       " 'type': 'record'}"
      ]
     },
     "execution_count": 7,
     "metadata": {},
     "output_type": "execute_result"
    }
   ],
   "source": [
    "parse_schema(schema)"
   ]
  },
  {
   "cell_type": "code",
   "execution_count": 8,
   "metadata": {
    "scrolled": true
   },
   "outputs": [
    {
     "data": {
      "text/plain": [
       "['coordinate_id',\n",
       " 'gps_timestamp',\n",
       " 'latitude',\n",
       " 'lat_dir',\n",
       " 'longitude',\n",
       " 'lon_dir',\n",
       " 'num_sats',\n",
       " 'horizontal_dil',\n",
       " 'altitude',\n",
       " 'altitude_units',\n",
       " 'geo_sep_units',\n",
       " 'age_gps_data',\n",
       " 'unused']"
      ]
     },
     "execution_count": 8,
     "metadata": {},
     "output_type": "execute_result"
    }
   ],
   "source": [
    "field_names"
   ]
  },
  {
   "cell_type": "code",
   "execution_count": 9,
   "metadata": {},
   "outputs": [
    {
     "data": {
      "text/plain": [
       "13"
      ]
     },
     "execution_count": 9,
     "metadata": {},
     "output_type": "execute_result"
    }
   ],
   "source": [
    "len(field_names)"
   ]
  },
  {
   "cell_type": "markdown",
   "metadata": {},
   "source": [
    "## SaveToCassandra function\n",
    "Takes a list of tuple (rows) and save to Cassandra "
   ]
  },
  {
   "cell_type": "code",
   "execution_count": 10,
   "metadata": {
    "collapsed": true
   },
   "outputs": [],
   "source": [
    "def saveToCassandra(rows):\n",
    "    if not rows.isEmpty(): \n",
    "        sqlContext.createDataFrame(rows).write\\\n",
    "        .format(\"org.apache.spark.sql.cassandra\")\\\n",
    "        .mode('append')\\\n",
    "        .options(table=TOPIC, keyspace=KEYSPACE)\\\n",
    "        .save()"
   ]
  },
  {
   "cell_type": "markdown",
   "metadata": {},
   "source": [
    "## Create streaming task\n",
    "* Receive data from Kafka 'test' topic every five seconds\n",
    "* Get stream content, and add receiving time to each message\n",
    "* Save each RDD in the DStream to Cassandra. Also print on screen"
   ]
  },
  {
   "cell_type": "code",
   "execution_count": 11,
   "metadata": {
    "collapsed": true,
    "scrolled": true
   },
   "outputs": [],
   "source": [
    "# row = '1556477374944823040,26,3821,3751,150,113'.split(',')\n",
    "# record = parse_line_into_schema(row, schema)\n",
    "# record"
   ]
  },
  {
   "cell_type": "code",
   "execution_count": 12,
   "metadata": {
    "collapsed": true
   },
   "outputs": [],
   "source": [
    "ssc = StreamingContext(sc, 5)\n",
    "kvs = KafkaUtils.createStream(ssc, \"127.0.0.1:2181\", \"spark-streaming-consumer\", {TOPIC: 1})\n",
    "#data = kvs.map(lambda x: x[1])\n",
    "data = kvs.map(lambda x: json.loads(x[1]))\n",
    "# rows= data.map(lambda x:Row(time_sent=x,time_received=time.strftime(\"%Y-%m-%d %H:%M:%S\")))\n",
    "# rows = data.map(lambda x: x.split(',')).map(lambda x: Row(field_names, x))\n",
    "# rows = data.map(lambda x: x.split(','))\n",
    "rows = data.map(lambda x: x)\n",
    "#rows = data.map(lambda x: parse_line_into_schema(x, schema))\n",
    "#rows= data.map(lambda x:Row(x))\n",
    "\n",
    "rows.foreachRDD(saveToCassandra)\n",
    "rows.pprint()"
   ]
  },
  {
   "cell_type": "markdown",
   "metadata": {},
   "source": [
    "## Start streaming"
   ]
  },
  {
   "cell_type": "code",
   "execution_count": 13,
   "metadata": {
    "scrolled": true
   },
   "outputs": [
    {
     "name": "stdout",
     "output_type": "stream",
     "text": [
      "-------------------------------------------\n",
      "Time: 2019-04-29 01:19:25\n",
      "-------------------------------------------\n",
      "\n"
     ]
    },
    {
     "name": "stderr",
     "output_type": "stream",
     "text": [
      "/home/guest/spark/python/pyspark/sql/session.py:340: UserWarning: Using RDD of dict to inferSchema is deprecated. Use pyspark.sql.Row instead\n",
      "  warnings.warn(\"Using RDD of dict to inferSchema is deprecated. \"\n"
     ]
    },
    {
     "name": "stdout",
     "output_type": "stream",
     "text": [
      "-------------------------------------------\n",
      "Time: 2019-04-29 01:19:30\n",
      "-------------------------------------------\n",
      "{u'geo_sep_units': u'M', u'lon_dir': u'W', u'lat_dir': u'N', u'altitude': u'45.4', u'longitude': u'-122.91595', u'unused': u'', u'gps_timestamp': u'20:23:51', u'age_gps_data': u'', u'num_sats': u'06', u'latitude': u'46.909256666666664', u'horizontal_dil': u'1.7', u'altitude_units': u'M', u'coordinate_id': 1556500197366183168}\n",
      "{u'geo_sep_units': u'M', u'lon_dir': u'W', u'lat_dir': u'N', u'altitude': u'45.4', u'longitude': u'-122.91594666666667', u'unused': u'', u'gps_timestamp': u'20:23:51.200000', u'age_gps_data': u'', u'num_sats': u'06', u'latitude': u'46.909256666666664', u'horizontal_dil': u'1.7', u'altitude_units': u'M', u'coordinate_id': 1556500199367689984}\n",
      "{u'geo_sep_units': u'M', u'lon_dir': u'W', u'lat_dir': u'N', u'altitude': u'45.5', u'longitude': u'-122.915945', u'unused': u'', u'gps_timestamp': u'20:23:51.400000', u'age_gps_data': u'', u'num_sats': u'06', u'latitude': u'46.909255', u'horizontal_dil': u'1.7', u'altitude_units': u'M', u'coordinate_id': 1556500201371134976}\n",
      "{u'geo_sep_units': u'M', u'lon_dir': u'W', u'lat_dir': u'N', u'altitude': u'45.5', u'longitude': u'-122.91594333333333', u'unused': u'', u'gps_timestamp': u'20:23:51.600000', u'age_gps_data': u'', u'num_sats': u'05', u'latitude': u'46.90925333333333', u'horizontal_dil': u'1.5', u'altitude_units': u'M', u'coordinate_id': 1556500203375830016}\n",
      "{u'geo_sep_units': u'M', u'lon_dir': u'W', u'lat_dir': u'N', u'altitude': u'45.5', u'longitude': u'-122.91594333333333', u'unused': u'', u'gps_timestamp': u'20:23:51.800000', u'age_gps_data': u'', u'num_sats': u'05', u'latitude': u'46.90925333333333', u'horizontal_dil': u'1.5', u'altitude_units': u'M', u'coordinate_id': 1556500205379270912}\n",
      "{u'geo_sep_units': u'M', u'lon_dir': u'W', u'lat_dir': u'N', u'altitude': u'45.4', u'longitude': u'-122.91594333333333', u'unused': u'', u'gps_timestamp': u'20:23:52', u'age_gps_data': u'', u'num_sats': u'05', u'latitude': u'46.90925333333333', u'horizontal_dil': u'1.5', u'altitude_units': u'M', u'coordinate_id': 1556500207381891072}\n",
      "{u'geo_sep_units': u'M', u'lon_dir': u'W', u'lat_dir': u'N', u'altitude': u'45.4', u'longitude': u'-122.91594333333333', u'unused': u'', u'gps_timestamp': u'20:23:52.200000', u'age_gps_data': u'', u'num_sats': u'05', u'latitude': u'46.90925333333333', u'horizontal_dil': u'1.5', u'altitude_units': u'M', u'coordinate_id': 1556500209384485888}\n",
      "{u'geo_sep_units': u'M', u'lon_dir': u'W', u'lat_dir': u'N', u'altitude': u'45.4', u'longitude': u'-122.91594333333333', u'unused': u'', u'gps_timestamp': u'20:23:52.400000', u'age_gps_data': u'', u'num_sats': u'05', u'latitude': u'46.90925333333333', u'horizontal_dil': u'1.5', u'altitude_units': u'M', u'coordinate_id': 1556500211387366912}\n",
      "{u'geo_sep_units': u'M', u'lon_dir': u'W', u'lat_dir': u'N', u'altitude': u'45.4', u'longitude': u'-122.91594333333333', u'unused': u'', u'gps_timestamp': u'20:23:52.600000', u'age_gps_data': u'', u'num_sats': u'05', u'latitude': u'46.90925333333333', u'horizontal_dil': u'1.5', u'altitude_units': u'M', u'coordinate_id': 1556500213391686912}\n",
      "{u'geo_sep_units': u'M', u'lon_dir': u'W', u'lat_dir': u'N', u'altitude': u'45.4', u'longitude': u'-122.91594', u'unused': u'', u'gps_timestamp': u'20:23:52.800000', u'age_gps_data': u'', u'num_sats': u'05', u'latitude': u'46.90925333333333', u'horizontal_dil': u'1.5', u'altitude_units': u'M', u'coordinate_id': 1556500215394397952}\n",
      "...\n",
      "\n",
      "-------------------------------------------\n",
      "Time: 2019-04-29 01:19:35\n",
      "-------------------------------------------\n",
      "{u'geo_sep_units': u'M', u'lon_dir': u'W', u'lat_dir': u'N', u'altitude': u'49.7', u'longitude': u'-122.91575833333333', u'unused': u'', u'gps_timestamp': u'20:24:51.600000', u'age_gps_data': u'', u'num_sats': u'05', u'latitude': u'46.909371666666665', u'horizontal_dil': u'2.4', u'altitude_units': u'M', u'coordinate_id': 1556500770895813888}\n",
      "{u'geo_sep_units': u'M', u'lon_dir': u'W', u'lat_dir': u'N', u'altitude': u'49.7', u'longitude': u'-122.91575833333333', u'unused': u'', u'gps_timestamp': u'20:24:51.800000', u'age_gps_data': u'', u'num_sats': u'05', u'latitude': u'46.909371666666665', u'horizontal_dil': u'2.4', u'altitude_units': u'M', u'coordinate_id': 1556500772898149888}\n",
      "\n",
      "-------------------------------------------\n",
      "Time: 2019-04-29 01:19:40\n",
      "-------------------------------------------\n",
      "{u'geo_sep_units': u'M', u'lon_dir': u'W', u'lat_dir': u'N', u'altitude': u'49.7', u'longitude': u'-122.91575833333333', u'unused': u'', u'gps_timestamp': u'20:24:52', u'age_gps_data': u'', u'num_sats': u'05', u'latitude': u'46.90937', u'horizontal_dil': u'2.4', u'altitude_units': u'M', u'coordinate_id': 1556500774900732160}\n",
      "{u'geo_sep_units': u'M', u'lon_dir': u'W', u'lat_dir': u'N', u'altitude': u'49.7', u'longitude': u'-122.91576', u'unused': u'', u'gps_timestamp': u'20:24:52.200000', u'age_gps_data': u'', u'num_sats': u'05', u'latitude': u'46.90937', u'horizontal_dil': u'2.4', u'altitude_units': u'M', u'coordinate_id': 1556500776903388928}\n",
      "{u'geo_sep_units': u'M', u'lon_dir': u'W', u'lat_dir': u'N', u'altitude': u'49.7', u'longitude': u'-122.91576', u'unused': u'', u'gps_timestamp': u'20:24:52.400000', u'age_gps_data': u'', u'num_sats': u'05', u'latitude': u'46.90936833333333', u'horizontal_dil': u'2.4', u'altitude_units': u'M', u'coordinate_id': 1556500778906008064}\n",
      "\n",
      "-------------------------------------------\n",
      "Time: 2019-04-29 01:19:45\n",
      "-------------------------------------------\n",
      "{u'geo_sep_units': u'M', u'lon_dir': u'W', u'lat_dir': u'N', u'altitude': u'49.7', u'longitude': u'-122.91576', u'unused': u'', u'gps_timestamp': u'20:24:52.600000', u'age_gps_data': u'', u'num_sats': u'05', u'latitude': u'46.90936666666666', u'horizontal_dil': u'2.4', u'altitude_units': u'M', u'coordinate_id': 1556500780910130944}\n",
      "{u'geo_sep_units': u'M', u'lon_dir': u'W', u'lat_dir': u'N', u'altitude': u'49.7', u'longitude': u'-122.91576166666667', u'unused': u'', u'gps_timestamp': u'20:24:52.800000', u'age_gps_data': u'', u'num_sats': u'05', u'latitude': u'46.90936666666666', u'horizontal_dil': u'2.4', u'altitude_units': u'M', u'coordinate_id': 1556500782912993024}\n",
      "\n"
     ]
    }
   ],
   "source": [
    "ssc.start()"
   ]
  },
  {
   "cell_type": "markdown",
   "metadata": {},
   "source": [
    "## Stop streaming"
   ]
  },
  {
   "cell_type": "code",
   "execution_count": 14,
   "metadata": {
    "scrolled": true
   },
   "outputs": [
    {
     "name": "stdout",
     "output_type": "stream",
     "text": [
      "-------------------------------------------\n",
      "Time: 2019-04-29 01:19:50\n",
      "-------------------------------------------\n",
      "{u'geo_sep_units': u'M', u'lon_dir': u'W', u'lat_dir': u'N', u'altitude': u'49.7', u'longitude': u'-122.91576333333333', u'unused': u'', u'gps_timestamp': u'20:24:53', u'age_gps_data': u'', u'num_sats': u'05', u'latitude': u'46.90936666666666', u'horizontal_dil': u'2.4', u'altitude_units': u'M', u'coordinate_id': 1556500784915683072}\n",
      "{u'geo_sep_units': u'M', u'lon_dir': u'W', u'lat_dir': u'N', u'altitude': u'49.7', u'longitude': u'-122.91576333333333', u'unused': u'', u'gps_timestamp': u'20:24:53.200000', u'age_gps_data': u'', u'num_sats': u'05', u'latitude': u'46.90936666666666', u'horizontal_dil': u'2.4', u'altitude_units': u'M', u'coordinate_id': 1556500786918374144}\n",
      "{u'geo_sep_units': u'M', u'lon_dir': u'W', u'lat_dir': u'N', u'altitude': u'49.7', u'longitude': u'-122.915765', u'unused': u'', u'gps_timestamp': u'20:24:53.400000', u'age_gps_data': u'', u'num_sats': u'05', u'latitude': u'46.909365', u'horizontal_dil': u'2.4', u'altitude_units': u'M', u'coordinate_id': 1556500788921643008}\n",
      "\n",
      "-------------------------------------------\n",
      "Time: 2019-04-29 01:19:55\n",
      "-------------------------------------------\n",
      "\n",
      "-------------------------------------------\n",
      "Time: 2019-04-29 01:20:00\n",
      "-------------------------------------------\n",
      "\n"
     ]
    }
   ],
   "source": [
    "ssc.stop(stopSparkContext=False,stopGraceFully=True)"
   ]
  },
  {
   "cell_type": "markdown",
   "metadata": {},
   "source": [
    "## Get Cassandra table content"
   ]
  },
  {
   "cell_type": "code",
   "execution_count": 15,
   "metadata": {},
   "outputs": [
    {
     "data": {
      "text/plain": [
       "'gps'"
      ]
     },
     "execution_count": 15,
     "metadata": {},
     "output_type": "execute_result"
    }
   ],
   "source": [
    "TOPIC"
   ]
  },
  {
   "cell_type": "code",
   "execution_count": 16,
   "metadata": {
    "scrolled": true
   },
   "outputs": [
    {
     "name": "stdout",
     "output_type": "stream",
     "text": [
      "+-------------------+------------+--------+--------------+-------------+---------------+--------------+-------+---------+-------+-----------+--------+------+\n",
      "|      coordinate_id|age_gps_data|altitude|altitude_units|geo_sep_units|  gps_timestamp|horizontal_dil|lat_dir| latitude|lon_dir|  longitude|num_sats|unused|\n",
      "+-------------------+------------+--------+--------------+-------------+---------------+--------------+-------+---------+-------+-----------+--------+------+\n",
      "|1556500776903388928|            |    49.7|             M|            M|20:24:52.200000|           2.4|      N| 46.90937|      W| -122.91576|       5|      |\n",
      "|1556499477659725824|            |    45.0|             M|            M|20:23:19.800000|           1.5|      N| 46.90932|      W| -122.91586|       6|      |\n",
      "|1556500784915683072|            |    49.7|             M|            M|       20:24:53|           2.4|      N|46.909367|      W|-122.915764|       5|      |\n",
      "|1556499479662646016|            |    45.0|             M|            M|       20:23:20|           1.5|      N| 46.90932|      W| -122.91586|       6|      |\n",
      "|1556500780910130944|            |    49.7|             M|            M|20:24:52.600000|           2.4|      N|46.909367|      W| -122.91576|       5|      |\n",
      "|1556500786918374144|            |    49.7|             M|            M|20:24:53.200000|           2.4|      N|46.909367|      W|-122.915764|       5|      |\n",
      "|1556499481665864960|            |    45.0|             M|            M|20:23:20.200000|           1.5|      N| 46.90932|      W|-122.915855|       6|      |\n",
      "|1556499475658701824|            |    45.0|             M|            M|20:23:19.600000|           1.5|      N| 46.90932|      W| -122.91586|       6|      |\n",
      "|1556500774900732160|            |    49.7|             M|            M|       20:24:52|           2.4|      N| 46.90937|      W| -122.91576|       5|      |\n",
      "|1556499473656208128|            |    44.9|             M|            M|20:23:19.400000|           1.5|      N|46.909325|      W| -122.91586|       6|      |\n",
      "|1556499485671710976|            |    45.0|             M|            M|20:23:20.600000|           1.5|      N|46.909317|      W|-122.915855|       6|      |\n",
      "|1556500788921643008|            |    49.7|             M|            M|20:24:53.400000|           2.4|      N|46.909367|      W|-122.915764|       5|      |\n",
      "|1556499471653826048|            |    44.9|             M|            M|20:23:19.200000|           1.5|      N|46.909325|      W| -122.91586|       6|      |\n",
      "|1556500778906008064|            |    49.7|             M|            M|20:24:52.400000|           2.4|      N|46.909367|      W| -122.91576|       5|      |\n",
      "|1556499483669359872|            |    45.0|             M|            M|20:23:20.400000|           1.5|      N| 46.90932|      W|-122.915855|       6|      |\n",
      "|1556500770895813888|            |    49.7|             M|            M|20:24:51.600000|           2.4|      N| 46.90937|      W| -122.91576|       5|      |\n",
      "|1556500782912993024|            |    49.7|             M|            M|20:24:52.800000|           2.4|      N|46.909367|      W|-122.915764|       5|      |\n",
      "|1556500772898149888|            |    49.7|             M|            M|20:24:51.800000|           2.4|      N| 46.90937|      W| -122.91576|       5|      |\n",
      "+-------------------+------------+--------+--------------+-------------+---------------+--------------+-------+---------+-------+-----------+--------+------+\n",
      "\n"
     ]
    }
   ],
   "source": [
    "data=sqlContext.read\\\n",
    "    .format(\"org.apache.spark.sql.cassandra\")\\\n",
    "    .options(table=TOPIC, keyspace=KEYSPACE)\\\n",
    "    .load()\n",
    "data.show()"
   ]
  },
  {
   "cell_type": "markdown",
   "metadata": {},
   "source": [
    "## Get Cassandra table content using SQL"
   ]
  },
  {
   "cell_type": "code",
   "execution_count": 17,
   "metadata": {
    "scrolled": true
   },
   "outputs": [
    {
     "name": "stdout",
     "output_type": "stream",
     "text": [
      "root\n",
      " |-- coordinate_id: long (nullable = true)\n",
      " |-- age_gps_data: string (nullable = true)\n",
      " |-- altitude: float (nullable = true)\n",
      " |-- altitude_units: string (nullable = true)\n",
      " |-- geo_sep_units: string (nullable = true)\n",
      " |-- gps_timestamp: string (nullable = true)\n",
      " |-- horizontal_dil: float (nullable = true)\n",
      " |-- lat_dir: string (nullable = true)\n",
      " |-- latitude: float (nullable = true)\n",
      " |-- lon_dir: string (nullable = true)\n",
      " |-- longitude: float (nullable = true)\n",
      " |-- num_sats: integer (nullable = true)\n",
      " |-- unused: string (nullable = true)\n",
      "\n",
      "+-------------------+------------+--------+--------------+-------------+---------------+--------------+-------+---------+-------+-----------+--------+------+\n",
      "|      coordinate_id|age_gps_data|altitude|altitude_units|geo_sep_units|  gps_timestamp|horizontal_dil|lat_dir| latitude|lon_dir|  longitude|num_sats|unused|\n",
      "+-------------------+------------+--------+--------------+-------------+---------------+--------------+-------+---------+-------+-----------+--------+------+\n",
      "|1556500776903388928|            |    49.7|             M|            M|20:24:52.200000|           2.4|      N| 46.90937|      W| -122.91576|       5|      |\n",
      "|1556499477659725824|            |    45.0|             M|            M|20:23:19.800000|           1.5|      N| 46.90932|      W| -122.91586|       6|      |\n",
      "|1556500784915683072|            |    49.7|             M|            M|       20:24:53|           2.4|      N|46.909367|      W|-122.915764|       5|      |\n",
      "|1556499479662646016|            |    45.0|             M|            M|       20:23:20|           1.5|      N| 46.90932|      W| -122.91586|       6|      |\n",
      "|1556500780910130944|            |    49.7|             M|            M|20:24:52.600000|           2.4|      N|46.909367|      W| -122.91576|       5|      |\n",
      "|1556500786918374144|            |    49.7|             M|            M|20:24:53.200000|           2.4|      N|46.909367|      W|-122.915764|       5|      |\n",
      "|1556499481665864960|            |    45.0|             M|            M|20:23:20.200000|           1.5|      N| 46.90932|      W|-122.915855|       6|      |\n",
      "|1556499475658701824|            |    45.0|             M|            M|20:23:19.600000|           1.5|      N| 46.90932|      W| -122.91586|       6|      |\n",
      "|1556500774900732160|            |    49.7|             M|            M|       20:24:52|           2.4|      N| 46.90937|      W| -122.91576|       5|      |\n",
      "|1556499473656208128|            |    44.9|             M|            M|20:23:19.400000|           1.5|      N|46.909325|      W| -122.91586|       6|      |\n",
      "|1556499485671710976|            |    45.0|             M|            M|20:23:20.600000|           1.5|      N|46.909317|      W|-122.915855|       6|      |\n",
      "|1556500788921643008|            |    49.7|             M|            M|20:24:53.400000|           2.4|      N|46.909367|      W|-122.915764|       5|      |\n",
      "|1556499471653826048|            |    44.9|             M|            M|20:23:19.200000|           1.5|      N|46.909325|      W| -122.91586|       6|      |\n",
      "|1556500778906008064|            |    49.7|             M|            M|20:24:52.400000|           2.4|      N|46.909367|      W| -122.91576|       5|      |\n",
      "|1556499483669359872|            |    45.0|             M|            M|20:23:20.400000|           1.5|      N| 46.90932|      W|-122.915855|       6|      |\n",
      "|1556500770895813888|            |    49.7|             M|            M|20:24:51.600000|           2.4|      N| 46.90937|      W| -122.91576|       5|      |\n",
      "|1556500782912993024|            |    49.7|             M|            M|20:24:52.800000|           2.4|      N|46.909367|      W|-122.915764|       5|      |\n",
      "|1556500772898149888|            |    49.7|             M|            M|20:24:51.800000|           2.4|      N| 46.90937|      W| -122.91576|       5|      |\n",
      "+-------------------+------------+--------+--------------+-------------+---------------+--------------+-------+---------+-------+-----------+--------+------+\n",
      "\n"
     ]
    }
   ],
   "source": [
    "data.registerTempTable(\"TOPIC\");\n",
    "data.printSchema()\n",
    "data=sqlContext.sql(\"select * from TOPIC\")\n",
    "data.show()"
   ]
  },
  {
   "cell_type": "code",
   "execution_count": 18,
   "metadata": {},
   "outputs": [
    {
     "data": {
      "text/plain": [
       "18"
      ]
     },
     "execution_count": 18,
     "metadata": {},
     "output_type": "execute_result"
    }
   ],
   "source": [
    "data.count()"
   ]
  },
  {
   "cell_type": "code",
   "execution_count": null,
   "metadata": {
    "collapsed": true
   },
   "outputs": [],
   "source": []
  }
 ],
 "metadata": {
  "kernelspec": {
   "display_name": "Python 2",
   "language": "python",
   "name": "python2"
  },
  "language_info": {
   "codemirror_mode": {
    "name": "ipython",
    "version": 2
   },
   "file_extension": ".py",
   "mimetype": "text/x-python",
   "name": "python",
   "nbconvert_exporter": "python",
   "pygments_lexer": "ipython2",
   "version": "2.7.10"
  }
 },
 "nbformat": 4,
 "nbformat_minor": 2
}
